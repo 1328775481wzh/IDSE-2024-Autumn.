{
 "cells": [
  {
   "cell_type": "markdown",
   "metadata": {},
   "source": [
    "0. 所有的题目结果中，给出SQL语句和执行结果。"
   ]
  },
  {
   "cell_type": "markdown",
   "metadata": {},
   "source": [
    "1. 在新数据库中新建一张 user 表,插入几条数据,属性包含:唯一标识(id),姓名(name)性别(sex).年龄(age).联系方式(phone)，数据如下：\n",
    "\n",
    "    ('John Doe', 'Male', 25, '123-456-7890')\n",
    "\n",
    "    ('Jane Smith', 'Female', 31, '987-654-3210')\n",
    "    \n",
    "    ('Bob Johnson', 'Male', 22, '555-123-4567')"
   ]
  },
  {
   "cell_type": "code",
   "execution_count": null,
   "metadata": {
    "vscode": {
     "languageId": "sql"
    }
   },
   "outputs": [],
   "source": [
    "CREATE TABLE user (\n",
    "    id INT AUTO_INCREMENT PRIMARY KEY,  -- 唯一标识符，自动增长\n",
    "    name VARCHAR(100),                  -- 姓名\n",
    "    sex VARCHAR(10),                    -- 性别\n",
    "    age INT,                            -- 年龄\n",
    "    phone VARCHAR(20)                   -- 联系方式\n",
    ");\n",
    "\n",
    "INSERT INTO user (name, sex, age, phone)\n",
    "VALUES \n",
    "    ('John Doe', 'Male', 25, '123-456-7890'),\n",
    "    ('Jane Smith', 'Female', 31, '987-654-3210'),\n",
    "    ('Bob Johnson', 'Male', 22, '555-123-4567');\n",
    "\n",
    "SELECT * FROM user;"
   ]
  },
  {
   "cell_type": "code",
   "execution_count": 2,
   "metadata": {
    "vscode": {
     "languageId": "sql"
    }
   },
   "outputs": [
    {
     "name": "stdout",
     "output_type": "stream",
     "text": [
      "(1, 'John Doe', 'Male', 25, '123-456-7890')\n",
      "(2, 'Jane Smith', 'Female', 31, '987-654-3210')\n",
      "(3, 'Bob Johnson', 'Male', 22, '555-123-4567')\n"
     ]
    }
   ],
   "source": [
    "import sqlite3\n",
    "\n",
    "# 连接到 SQLite 数据库（如果没有该数据库文件，会自动创建）\n",
    "conn = sqlite3.connect('user_database.db')  # 这里会创建一个名为 user_database.db 的数据库文件\n",
    "cursor = conn.cursor()\n",
    "\n",
    "# 1. 创建 'user' 表\n",
    "cursor.execute('''\n",
    "    CREATE TABLE IF NOT EXISTS user (\n",
    "        id INTEGER PRIMARY KEY AUTOINCREMENT,  -- 唯一标识符，自动增长\n",
    "        name TEXT,                             -- 姓名\n",
    "        sex TEXT,                              -- 性别\n",
    "        age INTEGER,                           -- 年龄\n",
    "        phone TEXT                             -- 联系方式\n",
    "    )\n",
    "''')\n",
    "\n",
    "# 2. 插入数据\n",
    "cursor.executemany('''\n",
    "    INSERT INTO user (name, sex, age, phone) VALUES (?, ?, ?, ?)\n",
    "''', [\n",
    "    ('John Doe', 'Male', 25, '123-456-7890'),\n",
    "    ('Jane Smith', 'Female', 31, '987-654-3210'),\n",
    "    ('Bob Johnson', 'Male', 22, '555-123-4567')\n",
    "])\n",
    "\n",
    "# 提交更改\n",
    "conn.commit()\n",
    "\n",
    "# 3. 查询数据\n",
    "cursor.execute('SELECT * FROM user')\n",
    "rows = cursor.fetchall()\n",
    "\n",
    "# 打印查询结果\n",
    "for row in rows:\n",
    "    print(row)\n",
    "\n",
    "# 关闭连接\n",
    "conn.close()\n"
   ]
  },
  {
   "cell_type": "markdown",
   "metadata": {},
   "source": [
    "2. 写出 SQL语句,查询 user 表中所有年龄在 20-30 范围内的用户"
   ]
  },
  {
   "cell_type": "code",
   "execution_count": null,
   "metadata": {
    "vscode": {
     "languageId": "sql"
    }
   },
   "outputs": [],
   "source": [
    "SELECT * FROM user\n",
    "WHERE age BETWEEN 20 AND 30;\n"
   ]
  },
  {
   "cell_type": "code",
   "execution_count": 4,
   "metadata": {
    "vscode": {
     "languageId": "sql"
    }
   },
   "outputs": [
    {
     "name": "stdout",
     "output_type": "stream",
     "text": [
      "(1, 'John Doe', 'Male', 25, '123-456-7890')\n",
      "(3, 'Bob Johnson', 'Male', 22, '555-123-4567')\n"
     ]
    }
   ],
   "source": [
    "import sqlite3\n",
    "\n",
    "# 连接到 SQLite 数据库（如果没有该数据库文件，会自动创建）\n",
    "conn = sqlite3.connect('user_database.db')\n",
    "cursor = conn.cursor()\n",
    "\n",
    "# 查询所有年龄在 20 到 30 岁之间的用户\n",
    "cursor.execute('SELECT * FROM user WHERE age BETWEEN 20 AND 30')\n",
    "\n",
    "# 获取查询结果\n",
    "rows = cursor.fetchall()\n",
    "\n",
    "# 打印查询结果\n",
    "for row in rows:\n",
    "    print(row)\n",
    "\n",
    "# 关闭连接\n",
    "conn.close()\n"
   ]
  },
  {
   "cell_type": "markdown",
   "metadata": {},
   "source": [
    "3. 写出SQL语句，向user表中添加自己的个人信息，并添加几条和你姓名同姓的虚拟信息。"
   ]
  },
  {
   "cell_type": "code",
   "execution_count": null,
   "metadata": {
    "vscode": {
     "languageId": "sql"
    }
   },
   "outputs": [],
   "source": [
    "CREATE TABLE user (\n",
    "    name VARCHAR(100),\n",
    "    gender VARCHAR(10),\n",
    "    age INT,\n",
    "    phone VARCHAR(20)\n",
    ");\n",
    "INSERT INTO user (name, gender, age, phone)\n",
    "VALUES\n",
    "    ('王志鸿', '男', 25, '138-1234-5678'),  -- 个人信息\n",
    "    ('王志红', '男', 30, '138-2345-6789'),  -- 虚拟数据1\n",
    "    ('王志绿', '女', 22, '138-3456-7890'),  -- 虚拟数据2\n",
    "    ('王志蓝', '女', 28, '138-4567-8901');  -- 虚拟数据3\n"
   ]
  },
  {
   "cell_type": "code",
   "execution_count": null,
   "metadata": {
    "vscode": {
     "languageId": "sql"
    }
   },
   "outputs": [
    {
     "name": "stdout",
     "output_type": "stream",
     "text": [
      "(1, 'John Doe', 'Male', 25, '123-456-7890')\n",
      "(2, 'Jane Smith', 'Female', 31, '987-654-3210')\n",
      "(3, 'Bob Johnson', 'Male', 22, '555-123-4567')\n",
      "(4, '王志鸿·', '男', 25, '138-1234-5678')\n",
      "(5, '王志红', '男', 30, '138-2345-6789')\n",
      "(6, '王志绿', '女', 22, '138-3456-7890')\n",
      "(7, '王志蓝', '女', 28, '138-4567-8901')\n"
     ]
    }
   ],
   "source": [
    "import sqlite3\n",
    "\n",
    "# 连接到 SQLite 数据库（如果没有该数据库文件，会自动创建）\n",
    "conn = sqlite3.connect('user_database.db')\n",
    "cursor = conn.cursor()\n",
    "\n",
    "# 创建 user 表（如果没有的话）\n",
    "cursor.execute('''\n",
    "    CREATE TABLE IF NOT EXISTS user (\n",
    "        id INTEGER PRIMARY KEY AUTOINCREMENT,\n",
    "        name TEXT,\n",
    "        sex TEXT,\n",
    "        age INTEGER,\n",
    "        phone TEXT\n",
    "    )\n",
    "''')\n",
    "\n",
    "# 向 user 表插入数据：个人信息 + 和自己姓名同姓的虚拟信息\n",
    "cursor.executemany('''\n",
    "    INSERT INTO user (name, sex, age, phone) VALUES (?, ?, ?, ?)\n",
    "''', [\n",
    "    ('王志鸿·', '男', 25, '138-1234-5678'),  # 这是你的个人信息\n",
    "    ('王志红', '男', 30, '138-2345-6789'),  # 虚拟数据1\n",
    "    ('王志绿', '女', 22, '138-3456-7890'),  # 虚拟数据2\n",
    "    ('王志蓝', '女', 28, '138-4567-8901'),  # 虚拟数据3\n",
    "])\n",
    "\n",
    "# 提交更改\n",
    "conn.commit()\n",
    "\n",
    "# 查询所有数据，确认插入\n",
    "cursor.execute('SELECT * FROM user')\n",
    "rows = cursor.fetchall()\n",
    "\n",
    "# 打印查询结果\n",
    "for row in rows:\n",
    "    print(row)\n",
    "\n",
    "# 关闭数据库连接\n",
    "conn.close()\n"
   ]
  },
  {
   "cell_type": "markdown",
   "metadata": {},
   "source": [
    "4. 写出 SQL语句,查询 user 表中年龄在 20-30 范围内,名字包含“你的姓氏”的用户,并按照年龄从大到小排序输出"
   ]
  },
  {
   "cell_type": "code",
   "execution_count": null,
   "metadata": {
    "vscode": {
     "languageId": "sql"
    }
   },
   "outputs": [],
   "source": [
    "SELECT * \n",
    "FROM user\n",
    "WHERE age BETWEEN 20 AND 30  -- 年龄在 20 到 30 岁之间\n",
    "  AND name LIKE '王%'        -- 姓名以“王”开头（假设你的姓是“王”）\n",
    "ORDER BY age DESC;          -- 按年龄从大到小排序\n"
   ]
  },
  {
   "cell_type": "code",
   "execution_count": null,
   "metadata": {
    "vscode": {
     "languageId": "sql"
    }
   },
   "outputs": [
    {
     "name": "stdout",
     "output_type": "stream",
     "text": [
      "(5, '王志红', '男', 30, '138-2345-6789')\n",
      "(7, '王志蓝', '女', 28, '138-4567-8901')\n",
      "(4, '王志鸿·', '男', 25, '138-1234-5678')\n",
      "(6, '王志绿', '女', 22, '138-3456-7890')\n"
     ]
    }
   ],
   "source": [
    "import sqlite3\n",
    "\n",
    "# 连接到 SQLite 数据库（如果没有该数据库文件，会自动创建）\n",
    "conn = sqlite3.connect('user_database.db')\n",
    "cursor = conn.cursor()\n",
    "\n",
    "last_name = '王'\n",
    "\n",
    "# 执行 SQL 查询，查找年龄在 20-30 范围内且姓名包含姓氏“王”的用户\n",
    "cursor.execute('''\n",
    "    SELECT * FROM user \n",
    "    WHERE age BETWEEN 20 AND 30 \n",
    "    AND name LIKE ?\n",
    "    ORDER BY age DESC\n",
    "''', ('%' + last_name + '%',))  # 使用 LIKE 进行模糊匹配\n",
    "\n",
    "# 获取查询结果\n",
    "rows = cursor.fetchall()\n",
    "\n",
    "# 打印查询结果\n",
    "for row in rows:\n",
    "    print(row)\n",
    "\n",
    "# 关闭数据库连接\n",
    "conn.close()\n"
   ]
  },
  {
   "cell_type": "markdown",
   "metadata": {},
   "source": [
    "5. 写出 SQL 语句,计算 user 表中所有用户的平均年龄"
   ]
  },
  {
   "cell_type": "code",
   "execution_count": null,
   "metadata": {
    "vscode": {
     "languageId": "sql"
    }
   },
   "outputs": [],
   "source": [
    "SELECT AVG(age) FROM user;"
   ]
  },
  {
   "cell_type": "code",
   "execution_count": 9,
   "metadata": {
    "vscode": {
     "languageId": "sql"
    }
   },
   "outputs": [
    {
     "name": "stdout",
     "output_type": "stream",
     "text": [
      "所有用户的平均年龄是: 26.142857142857142\n"
     ]
    }
   ],
   "source": [
    "import sqlite3\n",
    "\n",
    "# 连接到 SQLite 数据库（如果没有该数据库文件，会自动创建）\n",
    "conn = sqlite3.connect('user_database.db')\n",
    "cursor = conn.cursor()\n",
    "\n",
    "# 执行 SQL 查询，计算所有用户的平均年龄\n",
    "cursor.execute('SELECT AVG(age) FROM user')\n",
    "\n",
    "# 获取查询结果\n",
    "average_age = cursor.fetchone()[0]\n",
    "\n",
    "# 打印结果\n",
    "print(f\"所有用户的平均年龄是: {average_age}\")\n",
    "\n",
    "# 关闭数据库连接\n",
    "conn.close()\n"
   ]
  },
  {
   "cell_type": "markdown",
   "metadata": {},
   "source": [
    "6. 新建两张表team 表(id,teamName)和score 表(id,teamid,userid,score)。其中score 表中的 teamid 为指向 team表id 的外键，userid 为指向 user表id的外键"
   ]
  },
  {
   "cell_type": "code",
   "execution_count": null,
   "metadata": {
    "vscode": {
     "languageId": "sql"
    }
   },
   "outputs": [],
   "source": [
    "-- 创建 team 表\n",
    "CREATE TABLE team (\n",
    "    id INTEGER PRIMARY KEY AUTOINCREMENT,  -- 自增长的主键\n",
    "    teamName TEXT NOT NULL                 -- 团队名称\n",
    ");\n",
    "\n",
    "-- 创建 score 表\n",
    "CREATE TABLE score (\n",
    "    id INTEGER PRIMARY KEY AUTOINCREMENT,  -- 自增长的主键\n",
    "    teamid INTEGER,                        -- 团队ID，外键\n",
    "    userid INTEGER,                        -- 用户ID，外键\n",
    "    score INTEGER,                         -- 用户得分\n",
    "    FOREIGN KEY (teamid) REFERENCES team(id),  -- 外键，指向 team 表的 id\n",
    "    FOREIGN KEY (userid) REFERENCES user(id)   -- 外键，指向 user 表的 id\n",
    ");"
   ]
  },
  {
   "cell_type": "code",
   "execution_count": 11,
   "metadata": {
    "vscode": {
     "languageId": "sql"
    }
   },
   "outputs": [
    {
     "name": "stdout",
     "output_type": "stream",
     "text": [
      "team 和 score 表已成功创建。\n"
     ]
    }
   ],
   "source": [
    "import sqlite3\n",
    "\n",
    "# 连接到 SQLite 数据库（如果没有该数据库文件，会自动创建）\n",
    "conn = sqlite3.connect('user_database.db')\n",
    "cursor = conn.cursor()\n",
    "\n",
    "# 创建 team 表\n",
    "cursor.execute('''\n",
    "CREATE TABLE IF NOT EXISTS team (\n",
    "    id INTEGER PRIMARY KEY AUTOINCREMENT,  -- 自增长的主键\n",
    "    teamName TEXT NOT NULL                 -- 团队名称\n",
    ");\n",
    "''')\n",
    "\n",
    "# 创建 score 表\n",
    "cursor.execute('''\n",
    "CREATE TABLE IF NOT EXISTS score (\n",
    "    id INTEGER PRIMARY KEY AUTOINCREMENT,  -- 自增长的主键\n",
    "    teamid INTEGER,                        -- 团队ID，外键\n",
    "    userid INTEGER,                        -- 用户ID，外键\n",
    "    score INTEGER,                         -- 用户得分\n",
    "    FOREIGN KEY (teamid) REFERENCES team(id),  -- 外键，指向 team 表的 id\n",
    "    FOREIGN KEY (userid) REFERENCES user(id)   -- 外键，指向 user 表的 id\n",
    ");\n",
    "''')\n",
    "\n",
    "# 提交事务\n",
    "conn.commit()\n",
    "\n",
    "# 关闭数据库连接\n",
    "conn.close()\n",
    "\n",
    "print(\"team 和 score 表已成功创建。\")\n"
   ]
  },
  {
   "cell_type": "markdown",
   "metadata": {},
   "source": [
    "7. 在team表中和score表中插入合适的记录，写出 SQL语句,查询 teamName 为“ECNU”的队伍中，年龄小于 20 的用户们，结果不得为空。"
   ]
  },
  {
   "cell_type": "code",
   "execution_count": null,
   "metadata": {
    "vscode": {
     "languageId": "sql"
    }
   },
   "outputs": [],
   "source": [
    "-- 向 team 表插入一条记录，teamName 为 'ECNU'\n",
    "INSERT INTO team (teamName) VALUES ('ECNU');\n",
    "\n",
    "-- 假设已有 user 表，并且用户ID为 1, 2, 3 等，年龄小于 20\n",
    "-- 向 score 表插入一些记录，假设 userid 分别为 1, 2, 3，teamid 为 \"ECNU\" 所对应的 teamid\n",
    "INSERT INTO score (teamid, userid, score) VALUES (1, 1, 85);\n",
    "INSERT INTO score (teamid, userid, score) VALUES (1, 2, 90);\n",
    "INSERT INTO score (teamid, userid, score) VALUES (1, 3, 88);\n",
    "\n",
    "-- 查询 teamName 为 'ECNU' 且年龄小于 20 的用户\n",
    "SELECT u.userid, u.age, t.teamName\n",
    "FROM score s\n",
    "JOIN user u ON s.userid = u.userid\n",
    "JOIN team t ON s.teamid = t.id\n",
    "WHERE t.teamName = 'ECNU' AND u.age < 20;\n"
   ]
  },
  {
   "cell_type": "code",
   "execution_count": 17,
   "metadata": {
    "vscode": {
     "languageId": "sql"
    }
   },
   "outputs": [
    {
     "name": "stdout",
     "output_type": "stream",
     "text": [
      "(1, 19, 'ECNU')\n",
      "(2, 18, 'ECNU')\n"
     ]
    }
   ],
   "source": [
    "import sqlite3\n",
    "\n",
    "# 连接到 SQLite 数据库（如果没有会自动创建）\n",
    "conn = sqlite3.connect('user_database.db')\n",
    "cursor = conn.cursor()\n",
    "\n",
    "# 启用外键支持\n",
    "cursor.execute('PRAGMA foreign_keys = ON;')\n",
    "\n",
    "# 删除旧的表（如果存在）\n",
    "cursor.execute('DROP TABLE IF EXISTS user;')\n",
    "cursor.execute('DROP TABLE IF EXISTS team;')\n",
    "cursor.execute('DROP TABLE IF EXISTS score;')\n",
    "\n",
    "# 创建 user 表，确保有 userid 和 age 字段\n",
    "cursor.execute('''\n",
    "CREATE TABLE user (\n",
    "    userid INTEGER PRIMARY KEY,\n",
    "    age INTEGER\n",
    ");\n",
    "''')\n",
    "\n",
    "# 创建 team 表\n",
    "cursor.execute('''\n",
    "CREATE TABLE team (\n",
    "    id INTEGER PRIMARY KEY AUTOINCREMENT,\n",
    "    teamName TEXT\n",
    ");\n",
    "''')\n",
    "\n",
    "# 创建 score 表，其中 teamid 是外键，指向 team 表，userid 是外键，指向 user 表\n",
    "cursor.execute('''\n",
    "CREATE TABLE score (\n",
    "    id INTEGER PRIMARY KEY AUTOINCREMENT,\n",
    "    teamid INTEGER,\n",
    "    userid INTEGER,\n",
    "    score INTEGER,\n",
    "    FOREIGN KEY (teamid) REFERENCES team(id),\n",
    "    FOREIGN KEY (userid) REFERENCES user(userid)\n",
    ");\n",
    "''')\n",
    "\n",
    "# 插入数据到 user 表（假设用户数据）\n",
    "cursor.execute(\"INSERT INTO user (userid, age) VALUES (1, 19);\")  # 用户 1, 年龄 19\n",
    "cursor.execute(\"INSERT INTO user (userid, age) VALUES (2, 18);\")  # 用户 2, 年龄 18\n",
    "cursor.execute(\"INSERT INTO user (userid, age) VALUES (3, 22);\")  # 用户 3, 年龄 22\n",
    "\n",
    "# 插入数据到 team 表\n",
    "cursor.execute(\"INSERT INTO team (teamName) VALUES ('ECNU');\")  # 创建名为 \"ECNU\" 的队伍\n",
    "\n",
    "# 获取刚插入的 \"ECNU\" 队伍的 ID\n",
    "cursor.execute(\"SELECT id FROM team WHERE teamName = 'ECNU';\")\n",
    "team_id = cursor.fetchone()[0]\n",
    "\n",
    "# 插入数据到 score 表，模拟用户与队伍的关联\n",
    "cursor.execute(\"INSERT INTO score (teamid, userid, score) VALUES (?, ?, ?);\", (team_id, 1, 85))  # 用户 1 加入 \"ECNU\" 队伍，得分 85\n",
    "cursor.execute(\"INSERT INTO score (teamid, userid, score) VALUES (?, ?, ?);\", (team_id, 2, 90))  # 用户 2 加入 \"ECNU\" 队伍，得分 90\n",
    "cursor.execute(\"INSERT INTO score (teamid, userid, score) VALUES (?, ?, ?);\", (team_id, 3, 88))  # 用户 3 加入 \"ECNU\" 队伍，得分 88\n",
    "\n",
    "# 查询 'ECNU' 队伍中年龄小于 20 的用户\n",
    "cursor.execute('''\n",
    "SELECT u.userid, u.age, t.teamName\n",
    "FROM score s\n",
    "JOIN user u ON s.userid = u.userid\n",
    "JOIN team t ON s.teamid = t.id\n",
    "WHERE t.teamName = 'ECNU' AND u.age < 20;\n",
    "''')\n",
    "\n",
    "# 获取查询结果并打印\n",
    "result = cursor.fetchall()\n",
    "for row in result:\n",
    "    print(row)  # 输出每一行数据\n",
    "\n",
    "# 提交事务并关闭连接\n",
    "conn.commit()\n",
    "conn.close()\n"
   ]
  },
  {
   "cell_type": "markdown",
   "metadata": {},
   "source": [
    "8. 写出 SQL 语句,计算 teamName为“ECNU”的总分(假设 score 存在 null值,nul值默认为 0 加入计算)。"
   ]
  },
  {
   "cell_type": "code",
   "execution_count": null,
   "metadata": {
    "vscode": {
     "languageId": "sql"
    }
   },
   "outputs": [],
   "source": [
    "SELECT SUM(COALESCE(s.score, 0)) AS total_score\n",
    "FROM score s\n",
    "JOIN team t ON s.teamid = t.id\n",
    "WHERE t.teamName = 'ECNU';\n"
   ]
  },
  {
   "cell_type": "code",
   "execution_count": 18,
   "metadata": {
    "vscode": {
     "languageId": "sql"
    }
   },
   "outputs": [
    {
     "name": "stdout",
     "output_type": "stream",
     "text": [
      "Total score for team 'ECNU': 263\n"
     ]
    }
   ],
   "source": [
    "import sqlite3\n",
    "\n",
    "# 连接到 SQLite 数据库（如果没有会自动创建）\n",
    "conn = sqlite3.connect('user_database.db')\n",
    "cursor = conn.cursor()\n",
    "\n",
    "# 查询 ECNU 队伍的总分，考虑 NULL 为 0\n",
    "cursor.execute('''\n",
    "SELECT SUM(COALESCE(s.score, 0)) AS total_score\n",
    "FROM score s\n",
    "JOIN team t ON s.teamid = t.id\n",
    "WHERE t.teamName = 'ECNU';\n",
    "''')\n",
    "\n",
    "# 获取查询结果并打印\n",
    "total_score = cursor.fetchone()[0]\n",
    "print(f\"Total score for team 'ECNU': {total_score}\")\n",
    "\n",
    "# 关闭连接\n",
    "conn.close()\n"
   ]
  },
  {
   "cell_type": "markdown",
   "metadata": {},
   "source": [
    "9. 写出SQL语句，删除user表中个人信息的记录。"
   ]
  },
  {
   "cell_type": "code",
   "execution_count": null,
   "metadata": {
    "vscode": {
     "languageId": "sql"
    }
   },
   "outputs": [],
   "source": [
    "DELETE FROM user;"
   ]
  },
  {
   "cell_type": "code",
   "execution_count": 19,
   "metadata": {
    "vscode": {
     "languageId": "sql"
    }
   },
   "outputs": [
    {
     "name": "stdout",
     "output_type": "stream",
     "text": [
      "已删除user表中个人信息的记录\n"
     ]
    }
   ],
   "source": [
    "import sqlite3\n",
    "\n",
    "# 连接到 SQLite 数据库\n",
    "conn = sqlite3.connect('user_database.db')\n",
    "cursor = conn.cursor()\n",
    "\n",
    "# 删除 user 表中所有的记录\n",
    "cursor.execute('DELETE FROM user;')\n",
    "\n",
    "# 提交更改并关闭连接\n",
    "conn.commit()\n",
    "conn.close()\n",
    "\n",
    "print(\"已删除user表中个人信息的记录\")\n"
   ]
  }
 ],
 "metadata": {
  "kernelspec": {
   "display_name": "Python 3",
   "language": "python",
   "name": "python3"
  },
  "language_info": {
   "codemirror_mode": {
    "name": "ipython",
    "version": 3
   },
   "file_extension": ".py",
   "mimetype": "text/x-python",
   "name": "python",
   "nbconvert_exporter": "python",
   "pygments_lexer": "ipython3",
   "version": "3.7.2"
  }
 },
 "nbformat": 4,
 "nbformat_minor": 2
}
