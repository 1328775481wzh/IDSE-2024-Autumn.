{
 "cells": [
  {
   "cell_type": "markdown",
   "metadata": {},
   "source": [
    "10224507034 王志鸿 第六周作业\n"
   ]
  },
  {
   "cell_type": "markdown",
   "metadata": {},
   "source": [
    "1、编写 Python程序,判断输入a是否为质数\n",
    "\n"
   ]
  },
  {
   "cell_type": "code",
   "execution_count": 1,
   "metadata": {},
   "outputs": [
    {
     "name": "stdout",
     "output_type": "stream",
     "text": [
      "3 是质数\n"
     ]
    }
   ],
   "source": [
    "def is_prime(a):\n",
    "    # 质数是大于1的自然数\n",
    "    if a <= 1:\n",
    "        return False\n",
    "    # 2是质数\n",
    "    if a == 2:\n",
    "        return True\n",
    "    # 排除偶数\n",
    "    if a % 2 == 0:\n",
    "        return False\n",
    "    # 从3开始检查，直到sqrt(a)\n",
    "    for i in range(3, int(a**0.5) + 1, 2):\n",
    "        if a % i == 0:\n",
    "            return False\n",
    "    return True\n",
    "\n",
    "# 输入一个整数\n",
    "a = int(input(\"请输入一个整数: \"))\n",
    "\n",
    "# 判断并输出结果\n",
    "if is_prime(a):\n",
    "    print(f\"{a} 是质数\")\n",
    "else:\n",
    "    print(f\"{a} 不是质数\")\n"
   ]
  },
  {
   "cell_type": "markdown",
   "metadata": {},
   "source": [
    "2、用Python实现插入排序该算法，不允许直接调用插入排序函数，需要手动实现其逻辑过程。\n"
   ]
  },
  {
   "cell_type": "code",
   "execution_count": 2,
   "metadata": {},
   "outputs": [
    {
     "name": "stdout",
     "output_type": "stream",
     "text": [
      "原数组: [12, 11, 13, 5, 6]\n",
      "排序后的数组: [5, 6, 11, 12, 13]\n"
     ]
    }
   ],
   "source": [
    "def insertion_sort(arr):\n",
    "    # 从第二个元素开始\n",
    "    for i in range(1, len(arr)):\n",
    "        key = arr[i]  # 当前待插入的元素\n",
    "        j = i - 1     # 从当前元素前一个位置开始\n",
    "\n",
    "        # 向右移动元素，直到找到正确的位置\n",
    "        while j >= 0 and arr[j] > key:\n",
    "            arr[j + 1] = arr[j]  # 将比key大的元素向右移动一位\n",
    "            j -= 1\n",
    "\n",
    "        # 插入当前元素到正确的位置\n",
    "        arr[j + 1] = key\n",
    "\n",
    "# 测试代码\n",
    "arr = [12, 11, 13, 5, 6]\n",
    "print(\"原数组:\", arr)\n",
    "\n",
    "insertion_sort(arr)\n",
    "\n",
    "print(\"排序后的数组:\", arr)\n"
   ]
  },
  {
   "cell_type": "markdown",
   "metadata": {},
   "source": [
    "\n",
    "3、用Python实现选择排序该算法，不允许直接调用插入排序函数，需要手动实现其逻辑过程。\n"
   ]
  },
  {
   "cell_type": "code",
   "execution_count": 3,
   "metadata": {},
   "outputs": [
    {
     "name": "stdout",
     "output_type": "stream",
     "text": [
      "原数组: [64, 25, 12, 22, 11]\n",
      "排序后的数组: [11, 12, 22, 25, 64]\n"
     ]
    }
   ],
   "source": [
    "def selection_sort(arr):\n",
    "    n = len(arr)\n",
    "    \n",
    "    # 外层循环表示每一轮选择最小值\n",
    "    for i in range(n):\n",
    "        min_index = i  # 假设当前元素是最小值的位置\n",
    "        \n",
    "        # 内层循环从i+1到n-1，查找比arr[i]更小的元素\n",
    "        for j in range(i + 1, n):\n",
    "            if arr[j] < arr[min_index]:\n",
    "                min_index = j  # 更新最小值的索引\n",
    "        \n",
    "        # 交换当前元素和最小值元素的位置\n",
    "        if min_index != i:\n",
    "            arr[i], arr[min_index] = arr[min_index], arr[i]\n",
    "\n",
    "# 测试代码\n",
    "arr = [64, 25, 12, 22, 11]\n",
    "print(\"原数组:\", arr)\n",
    "\n",
    "selection_sort(arr)\n",
    "\n",
    "print(\"排序后的数组:\", arr)\n"
   ]
  },
  {
   "cell_type": "markdown",
   "metadata": {},
   "source": [
    "\n",
    "4、用Python实现快速排序该算法，不允许直接调用插入排序函数，需要手动实现其逻辑过程。\n"
   ]
  },
  {
   "cell_type": "code",
   "execution_count": 4,
   "metadata": {},
   "outputs": [
    {
     "name": "stdout",
     "output_type": "stream",
     "text": [
      "原数组: [64, 25, 12, 22, 11]\n",
      "排序后的数组: [11, 12, 22, 25, 64]\n"
     ]
    }
   ],
   "source": [
    "def quick_sort(arr):\n",
    "    # 如果数组长度小于或等于1，直接返回\n",
    "    if len(arr) <= 1:\n",
    "        return arr\n",
    "    \n",
    "    # 选择基准元素，这里选择数组的第一个元素\n",
    "    pivot = arr[0]\n",
    "    \n",
    "    # 分别将小于基准的元素放在左边，大于基准的元素放在右边\n",
    "    left = [x for x in arr[1:] if x <= pivot]\n",
    "    right = [x for x in arr[1:] if x > pivot]\n",
    "    \n",
    "    # 递归排序左边和右边，然后合并\n",
    "    return quick_sort(left) + [pivot] + quick_sort(right)\n",
    "\n",
    "# 测试代码\n",
    "arr = [64, 25, 12, 22, 11]\n",
    "print(\"原数组:\", arr)\n",
    "\n",
    "sorted_arr = quick_sort(arr)\n",
    "\n",
    "print(\"排序后的数组:\", sorted_arr)\n"
   ]
  },
  {
   "cell_type": "markdown",
   "metadata": {},
   "source": [
    "\n",
    "5、使用 Python 随机生成三组长度递增的随机数列，长度分别为100、1000、10000，对生成的随机数组使用不同的排序算法，例如选择排序和归并排序，至少三种排序方法。对这些数列的数据排序，并分析不同排序算法在不同长度数列下的运行效果，例如运行时间等指标。\n"
   ]
  },
  {
   "cell_type": "code",
   "execution_count": 6,
   "metadata": {},
   "outputs": [
    {
     "name": "stdout",
     "output_type": "stream",
     "text": [
      "\n",
      "测试长度为 100 的随机数列：\n",
      "使用 selection_sort 排序耗时: 0.000000 秒\n",
      "使用 merge_sort 排序耗时: 0.001003 秒\n",
      "使用 quick_sort 排序耗时: 0.000000 秒\n",
      "\n",
      "测试长度为 1000 的随机数列：\n",
      "使用 selection_sort 排序耗时: 0.018996 秒\n",
      "使用 merge_sort 排序耗时: 0.002001 秒\n",
      "使用 quick_sort 排序耗时: 0.001000 秒\n",
      "\n",
      "测试长度为 10000 的随机数列：\n",
      "使用 selection_sort 排序耗时: 1.819000 秒\n",
      "使用 merge_sort 排序耗时: 0.026999 秒\n",
      "使用 quick_sort 排序耗时: 0.014000 秒\n"
     ]
    }
   ],
   "source": [
    "import random\n",
    "import time\n",
    "\n",
    "# 选择排序\n",
    "def selection_sort(arr):\n",
    "    n = len(arr)\n",
    "    for i in range(n):\n",
    "        min_idx = i\n",
    "        for j in range(i + 1, n):\n",
    "            if arr[j] < arr[min_idx]:\n",
    "                min_idx = j\n",
    "        arr[i], arr[min_idx] = arr[min_idx], arr[i]\n",
    "    return arr\n",
    "\n",
    "# 归并排序\n",
    "def merge_sort(arr):\n",
    "    if len(arr) <= 1:\n",
    "        return arr\n",
    "    mid = len(arr) // 2\n",
    "    left = merge_sort(arr[:mid])\n",
    "    right = merge_sort(arr[mid:])\n",
    "    return merge(left, right)\n",
    "\n",
    "# 归并两个排序好的子数组\n",
    "def merge(left, right):\n",
    "    result = []\n",
    "    i = j = 0\n",
    "    while i < len(left) and j < len(right):\n",
    "        if left[i] < right[j]:\n",
    "            result.append(left[i])\n",
    "            i += 1\n",
    "        else:\n",
    "            result.append(right[j])\n",
    "            j += 1\n",
    "    result.extend(left[i:])\n",
    "    result.extend(right[j:])\n",
    "    return result\n",
    "\n",
    "# 快速排序\n",
    "def quick_sort(arr):\n",
    "    if len(arr) <= 1:\n",
    "        return arr\n",
    "    pivot = arr[0]\n",
    "    left = [x for x in arr[1:] if x <= pivot]\n",
    "    right = [x for x in arr[1:] if x > pivot]\n",
    "    return quick_sort(left) + [pivot] + quick_sort(right)\n",
    "\n",
    "# 测试排序算法\n",
    "def test_sorting_algorithm():\n",
    "    # 生成随机数列\n",
    "    lengths = [100, 1000, 10000]\n",
    "    algorithms = [selection_sort, merge_sort, quick_sort]\n",
    "    \n",
    "    for length in lengths:\n",
    "        print(f\"\\n测试长度为 {length} 的随机数列：\")\n",
    "        arr = random.sample(range(length * 10), length)  # 生成随机数列\n",
    "\n",
    "        for algorithm in algorithms:\n",
    "            # 复制一份原始数组，避免重复排序\n",
    "            arr_copy = arr.copy()\n",
    "            start_time = time.time()\n",
    "            sorted_arr = algorithm(arr_copy)\n",
    "            end_time = time.time()\n",
    "\n",
    "            print(f\"使用 {algorithm.__name__} 排序耗时: {end_time - start_time:.6f} 秒\")\n",
    "\n",
    "# 运行测试\n",
    "test_sorting_algorithm()\n"
   ]
  },
  {
   "cell_type": "markdown",
   "metadata": {},
   "source": [
    "选择排序：在所有的排序算法中，选择排序的时间复杂度为 O(n^2)，因此它在数组较大的时候运行较慢，尤其是在数据量大的情况下表现不佳。\n",
    "\n",
    "归并排序：归并排序的时间复杂度为 O(n log n)，即使在较大数据量下，运行时间仍然比较稳定，适合处理大规模数据。\n",
    "\n",
    "快速排序：快速排序的平均时间复杂度也是 O(n log n)，并且通常表现较好，尤其是在数据规模较大的情况下。不过，它的最坏情况是 O(n^2)，当数组已经接近有序或基准选择不均匀时，性能会下降。\n",
    "\n",
    "对于小规模数据（如长度为 100 的数列），选择排序、归并排序和快速排序的性能差异不大。\n",
    "对于中等规模数据（如长度为 1000 的数列），归并排序和快速排序明显比选择排序更高效。\n",
    "对于大规模数据（如长度为 10000 的数列），选择排序的性能显著下降，而归并排序和快速排序依然表现出色，归并排序稍微稳定一些。"
   ]
  },
  {
   "cell_type": "markdown",
   "metadata": {},
   "source": [
    "\n",
    "6、使用python代码获取当前系统时间\n"
   ]
  },
  {
   "cell_type": "code",
   "execution_count": 7,
   "metadata": {},
   "outputs": [
    {
     "name": "stdout",
     "output_type": "stream",
     "text": [
      "当前日期: 2024-11-25\n",
      "当前时间: 20:58:02.920405\n"
     ]
    }
   ],
   "source": [
    "import datetime\n",
    "\n",
    "# 获取当前系统时间\n",
    "current_time = datetime.datetime.now()\n",
    "\n",
    "# 获取当前日期\n",
    "current_date = current_time.date()\n",
    "print(\"当前日期:\", current_date)\n",
    "\n",
    "# 获取当前时间\n",
    "current_time_only = current_time.time()\n",
    "print(\"当前时间:\", current_time_only)\n"
   ]
  },
  {
   "cell_type": "markdown",
   "metadata": {},
   "source": [
    "\n",
    "7、homework/data文件夹下的stuGrade.csv文件中包含5位同学的学号、语文成绩、数学成绩和英语成绩，请先用记事本打开该文件，查看文件内容，然后编写Python程序，读取该文件，并计算出各科的平均成绩（保留2位小数）。\n"
   ]
  },
  {
   "cell_type": "code",
   "execution_count": null,
   "metadata": {},
   "outputs": [
    {
     "name": "stdout",
     "output_type": "stream",
     "text": [
      "语文平均成绩: 82.6\n",
      "数学平均成绩: 81.0\n",
      "英语平均成绩: 81.8\n"
     ]
    }
   ],
   "source": [
    "import csv\n",
    "import time\n",
    "from datetime import datetime\n",
    "\n",
    "# 读取 CSV 文件并计算平均成绩\n",
    "def calculate_average(filename):\n",
    "    chinese_total = 0\n",
    "    math_total = 0\n",
    "    english_total = 0\n",
    "    count = 0  # 学生数量\n",
    "\n",
    "    # 打开文件并读取数据\n",
    "    with open(filename, mode='r', encoding='utf-8') as file:\n",
    "        csv_reader = csv.reader(file)\n",
    "        \n",
    "        # 跳过文件的表头\n",
    "        next(csv_reader)\n",
    "        \n",
    "        # 遍历每一行，累加成绩并计算学生数\n",
    "        for row in csv_reader:\n",
    "            chinese_total += int(row[1])  # 语文成绩\n",
    "            math_total += int(row[2])     # 数学成绩\n",
    "            english_total += int(row[3])  # 英语成绩\n",
    "            count += 1\n",
    "    \n",
    "    # 计算各科的平均成绩\n",
    "    chinese_avg = chinese_total / count\n",
    "    math_avg = math_total / count\n",
    "    english_avg = english_total / count\n",
    "\n",
    "    print(\"语文平均成绩:\", chinese_avg)\n",
    "    print(\"数学平均成绩:\", math_avg)\n",
    "    print(\"英语平均成绩:\", english_avg)\n",
    "    \n",
    "    return chinese_avg, math_avg, english_avg\n",
    "\n",
    "\n",
    "# 将数据写入 my.txt 文件\n",
    "def write_to_file():\n",
    "    # 文件路径\n",
    "    stu_grade_file = r\"C:\\Users\\王志鸿\\Desktop\\导论\\stuGrade.csv\"\n",
    "\n",
    "    # 输出文件路径\n",
    "    output_file = r\"C:\\Users\\王志鸿\\Desktop\\导论\\my.txt\"\n",
    "\n",
    "    # 获取平均成绩\n",
    "    chinese_avg, math_avg, english_avg = calculate_average(stu_grade_file)\n",
    "\n",
    "    # 获取系统当前时间\n",
    "    current_time = datetime.now().strftime('%Y-%m-%d %H:%M:%S')\n",
    "\n",
    "    # 暂停2秒，获取两秒后的系统时间\n",
    "    time.sleep(2)\n",
    "    future_time = datetime.now().strftime('%Y-%m-%d %H:%M:%S')\n",
    "\n",
    "    # 打开并写入输出文件\n",
    "    with open(output_file, mode='w', encoding='utf-8') as file:\n",
    "\n",
    "        file.write('10224507034 王志鸿\\n') \n",
    "        \n",
    "        # 任意一门课程的平均成绩（此处选择语文）\n",
    "        file.write(f'{chinese_avg:.2f},{math_avg:.2f},{english_avg:.2f}\\n')\n",
    "\n",
    "        # 系统当前时间\n",
    "        file.write(f'{current_time}\\n')\n",
    "\n",
    "        # 两秒后的时间\n",
    "        file.write(f'{future_time}\\n')\n",
    "\n",
    "# 执行写入操作\n",
    "write_to_file()\n"
   ]
  },
  {
   "cell_type": "markdown",
   "metadata": {},
   "source": [
    "\n",
    "8、请在第7题的代码继续编写Python程序，将以下内容写入my.txt文件中，一并上传到github中。\n",
    "\n",
    "第1行：你的学号和姓名\n",
    "\n",
    "第2行：3门课程的平均成绩（任意课程），保留2位小数，以英文逗号间隔\n",
    "\n",
    "第3行：系统当前时间，格式例如2020-01-01 12:00:00\n",
    "\n",
    "第4行：两秒后的系统当前时间（利用sleep()方法）\n"
   ]
  },
  {
   "cell_type": "markdown",
   "metadata": {},
   "source": [
    "10224507034 王志鸿\n",
    "82.60,81.00,81.80\n",
    "2024-11-25 21:11:48\n",
    "2024-11-25 21:11:50\n"
   ]
  }
 ],
 "metadata": {
  "kernelspec": {
   "display_name": "Python 3",
   "language": "python",
   "name": "python3"
  },
  "language_info": {
   "codemirror_mode": {
    "name": "ipython",
    "version": 3
   },
   "file_extension": ".py",
   "mimetype": "text/x-python",
   "name": "python",
   "nbconvert_exporter": "python",
   "pygments_lexer": "ipython3",
   "version": "3.7.2"
  }
 },
 "nbformat": 4,
 "nbformat_minor": 2
}
