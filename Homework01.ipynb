{
 "cells": [
  {
   "cell_type": "markdown",
   "metadata": {},
   "source": [
    "\n",
    "1、编写Python程序，打印\"数据科学与工程导论\"，并使用 print(chr(0x2605)) 语句将这句话包围起来。\n"
   ]
  },
  {
   "cell_type": "code",
   "execution_count": 1,
   "metadata": {},
   "outputs": [
    {
     "name": "stdout",
     "output_type": "stream",
     "text": [
      "★ 数据科学与工程导论 ★\n"
     ]
    }
   ],
   "source": [
    "# 打印包围的字符串\n",
    "message = \"数据科学与工程导论\"\n",
    "star = chr(0x2605)  # 获取星号字符（★）\n",
    "\n",
    "# 输出星号，消息和星号包围\n",
    "print(f\"{star} {message} {star}\")\n"
   ]
  },
  {
   "cell_type": "markdown",
   "metadata": {},
   "source": [
    "\n",
    "2、写一个 Python 程序，输入 x, y, z 这三个数，将这三个数从小到大使用 print 函数打印出来。\n"
   ]
  },
  {
   "cell_type": "code",
   "execution_count": 14,
   "metadata": {},
   "outputs": [
    {
     "name": "stdout",
     "output_type": "stream",
     "text": [
      "[4.0, 2.6, 9.0] 从小到大的顺序是: [2.6, 4.0, 9.0]\n"
     ]
    }
   ],
   "source": [
    "# 输入三个数\n",
    "x = float(input(\"请输入第一个数 x: \"))\n",
    "y = float(input(\"请输入第二个数 y: \"))\n",
    "z = float(input(\"请输入第三个数 z: \"))\n",
    "\n",
    "# 将三个数放入一个列表\n",
    "numbers = [x, y, z]\n",
    "\n",
    "# 排序并打印结果\n",
    "sorted_numbers = sorted(numbers)\n",
    "print(numbers,\"从小到大的顺序是:\", sorted_numbers)\n"
   ]
  },
  {
   "cell_type": "markdown",
   "metadata": {},
   "source": [
    "3、写一个 Python 程序，有 w, x, y, z 四个数，将这四个数从大到小使用 print 函数打印出来。\n"
   ]
  },
  {
   "cell_type": "code",
   "execution_count": 15,
   "metadata": {},
   "outputs": [
    {
     "name": "stdout",
     "output_type": "stream",
     "text": [
      "[1.0, 4.0, 5.0, 2.5] 从大到小的顺序是: [5.0, 4.0, 2.5, 1.0]\n"
     ]
    }
   ],
   "source": [
    "# 输入四个数\n",
    "w = float(input(\"请输入第一个数 w: \"))\n",
    "x = float(input(\"请输入第二个数 x: \"))\n",
    "y = float(input(\"请输入第三个数 y: \"))\n",
    "z = float(input(\"请输入第四个数 z: \"))\n",
    "\n",
    "# 将四个数放入一个列表\n",
    "numbers = [w, x, y, z]\n",
    "\n",
    "# 排序并打印结果，reverse=True 表示从大到小排序\n",
    "sorted_numbers = sorted(numbers, reverse=True)\n",
    "\n",
    "# 打印从大到小的顺序\n",
    "print(numbers,\"从大到小的顺序是:\", sorted_numbers)\n"
   ]
  },
  {
   "cell_type": "markdown",
   "metadata": {},
   "source": [
    "4、写一个 Python 程序，输出 1-100 中的所有奇数。\n"
   ]
  },
  {
   "cell_type": "code",
   "execution_count": 2,
   "metadata": {},
   "outputs": [
    {
     "name": "stdout",
     "output_type": "stream",
     "text": [
      "1\n",
      "3\n",
      "5\n",
      "7\n",
      "9\n",
      "11\n",
      "13\n",
      "15\n",
      "17\n",
      "19\n",
      "21\n",
      "23\n",
      "25\n",
      "27\n",
      "29\n",
      "31\n",
      "33\n",
      "35\n",
      "37\n",
      "39\n",
      "41\n",
      "43\n",
      "45\n",
      "47\n",
      "49\n",
      "51\n",
      "53\n",
      "55\n",
      "57\n",
      "59\n",
      "61\n",
      "63\n",
      "65\n",
      "67\n",
      "69\n",
      "71\n",
      "73\n",
      "75\n",
      "77\n",
      "79\n",
      "81\n",
      "83\n",
      "85\n",
      "87\n",
      "89\n",
      "91\n",
      "93\n",
      "95\n",
      "97\n",
      "99\n"
     ]
    }
   ],
   "source": [
    "# 输出 1 到 100 之间的所有奇数\n",
    "for i in range(1, 101, 2):\n",
    "    print(i)\n"
   ]
  },
  {
   "cell_type": "markdown",
   "metadata": {},
   "source": [
    "5、写一个 Python 程序，用 for 循环，求解 1 到 100 的和。\n"
   ]
  },
  {
   "cell_type": "code",
   "execution_count": 3,
   "metadata": {},
   "outputs": [
    {
     "name": "stdout",
     "output_type": "stream",
     "text": [
      "1 到 100 的和是: 5050\n"
     ]
    }
   ],
   "source": [
    "# 初始化总和为 0\n",
    "total_sum = 0\n",
    "\n",
    "# 使用 for 循环累加 1 到 100 的数字\n",
    "for i in range(1, 101):\n",
    "    total_sum += i\n",
    "\n",
    "# 输出结果\n",
    "print(\"1 到 100 的和是:\", total_sum)\n"
   ]
  },
  {
   "cell_type": "markdown",
   "metadata": {},
   "source": [
    "6、写一个 Python 程序，分别用 for 和 while 循环实现对一个给定序列的倒排序输出。例如，给定 L=[1,2,3,4,5]，输出为 [5,4,3,2,1]。\n"
   ]
  },
  {
   "cell_type": "code",
   "execution_count": 4,
   "metadata": {},
   "outputs": [
    {
     "name": "stdout",
     "output_type": "stream",
     "text": [
      "5 4 3 2 1 "
     ]
    }
   ],
   "source": [
    "# 给定列表\n",
    "L = [1, 2, 3, 4, 5]\n",
    "\n",
    "# 使用 for 循环倒序输出\n",
    "for i in range(len(L)-1, -1, -1):\n",
    "    print(L[i], end=' ')\n"
   ]
  },
  {
   "cell_type": "code",
   "execution_count": 5,
   "metadata": {},
   "outputs": [
    {
     "name": "stdout",
     "output_type": "stream",
     "text": [
      "5 4 3 2 1 "
     ]
    }
   ],
   "source": [
    "# 给定列表\n",
    "L = [1, 2, 3, 4, 5]\n",
    "\n",
    "# 使用 while 循环倒序输出\n",
    "i = len(L) - 1\n",
    "while i >= 0:\n",
    "    print(L[i], end=' ')\n",
    "    i -= 1\n"
   ]
  },
  {
   "cell_type": "markdown",
   "metadata": {},
   "source": [
    "7、写一个 Python 程序，判断一个输入的字符串 S 是否包含由两个或两个以上连续出现的相同字符组成的字符串。例如，abccccda 中就包含 cccc 这个由 4 个连续字符组成的字符串。\n"
   ]
  },
  {
   "cell_type": "code",
   "execution_count": 7,
   "metadata": {},
   "outputs": [
    {
     "name": "stdout",
     "output_type": "stream",
     "text": [
      "abcccda 字符串包含由两个或两个以上连续相同字符组成的字符串。\n"
     ]
    }
   ],
   "source": [
    "def has_repeated_substring(S):\n",
    "    # 遍历字符串\n",
    "    for i in range(len(S) - 1):  # 直到倒数第二个字符\n",
    "        # 如果当前字符和下一个字符相同\n",
    "        if S[i] == S[i + 1]:\n",
    "            # 检查后续字符是否继续重复\n",
    "            count = 2  # 已经匹配了两个字符\n",
    "            while i + count < len(S) and S[i + count] == S[i]:\n",
    "                count += 1\n",
    "            if count >= 2:  # 如果有两个及以上连续相同字符\n",
    "                return True\n",
    "    return False\n",
    "\n",
    "# 输入字符串\n",
    "S = input(\"请输入一个字符串: \")\n",
    "\n",
    "# 判断并输出结果\n",
    "if has_repeated_substring(S):\n",
    "    print(S,\"字符串包含由两个或两个以上连续相同字符组成的字符串。\")\n",
    "else:\n",
    "    print(S,\"字符串不包含由两个或两个以上连续相同字符组成的字符串。\")\n"
   ]
  },
  {
   "cell_type": "markdown",
   "metadata": {},
   "source": [
    "8、写一个 Python 程序，输入一个字符串 S，去掉其中所有的空格后输出。例如，“DataScience and Engineering”，去掉空格后为“DataScienceandEngineering”。\n"
   ]
  },
  {
   "cell_type": "code",
   "execution_count": 9,
   "metadata": {},
   "outputs": [
    {
     "name": "stdout",
     "output_type": "stream",
     "text": [
      "DataScience and Engineering 去掉空格后的字符串: DataScienceandEngineering\n"
     ]
    }
   ],
   "source": [
    "def remove_spaces(S):\n",
    "    # 使用 replace() 方法将空格替换为空字符串\n",
    "    return S.replace(\" \", \"\")\n",
    "\n",
    "# 输入字符串\n",
    "S = input(\"请输入一个字符串: \")\n",
    "\n",
    "# 输出去掉空格后的结果\n",
    "print(S,\"去掉空格后的字符串:\", remove_spaces(S))\n"
   ]
  },
  {
   "cell_type": "markdown",
   "metadata": {},
   "source": [
    "9、请设计一个求 3 次方根的算法（不允许直接调用求方根的函数），并给出对应的 Python 程序。 采用牛顿迭代法求解，迭代过程数学公式表示为： $x_{n+1} = x_n - \\frac{f(x_n)}{f'(x_n)}$\n",
    " \n"
   ]
  },
  {
   "cell_type": "code",
   "execution_count": 10,
   "metadata": {},
   "outputs": [
    {
     "name": "stdout",
     "output_type": "stream",
     "text": [
      "27.0 的三次方根是: 3.0000000000000018\n"
     ]
    }
   ],
   "source": [
    "def cube_root(a, tolerance=1e-6, max_iter=1000):\n",
    "    # 初始猜测值\n",
    "    x = a / 3.0  # 可以选择一个较小的初始值\n",
    "    iteration = 0\n",
    "    \n",
    "    while iteration < max_iter:\n",
    "        # 牛顿迭代公式\n",
    "        x_next = x - (x**3 - a) / (3 * x**2)\n",
    "        \n",
    "        # 判断是否收敛\n",
    "        if abs(x_next - x) < tolerance:\n",
    "            return x_next\n",
    "        \n",
    "        x = x_next\n",
    "        iteration += 1\n",
    "    \n",
    "    # 如果迭代次数超过最大限制，返回当前结果\n",
    "    return x\n",
    "\n",
    "# 输入需要求三次方根的数\n",
    "a = float(input(\"请输入一个数: \"))\n",
    "\n",
    "# 计算三次方根\n",
    "result = cube_root(a)\n",
    "\n",
    "print(f\"{a} 的三次方根是: {result}\")\n",
    "\n"
   ]
  },
  {
   "cell_type": "markdown",
   "metadata": {},
   "source": [
    "10、写一个 Python 程序，给定一个常数 n（n>0），求 n 的阶乘，即 n!=1×2×...×(n-1)×n。例如，4!=24，5!=120。"
   ]
  },
  {
   "cell_type": "code",
   "execution_count": 11,
   "metadata": {},
   "outputs": [
    {
     "name": "stdout",
     "output_type": "stream",
     "text": [
      "5 的阶乘是: 120\n"
     ]
    }
   ],
   "source": [
    "def factorial(n):\n",
    "    result = 1\n",
    "    for i in range(1, n + 1):\n",
    "        result *= i\n",
    "    return result\n",
    "\n",
    "# 输入需要计算阶乘的数字\n",
    "n = int(input(\"请输入一个正整数 n: \"))\n",
    "\n",
    "# 计算阶乘\n",
    "if n > 0:\n",
    "    result = factorial(n)\n",
    "    print(f\"{n} 的阶乘是: {result}\")\n",
    "else:\n",
    "    print(\"请输入一个大于 0 的正整数。\")\n"
   ]
  }
 ],
 "metadata": {
  "kernelspec": {
   "display_name": "Python 3",
   "language": "python",
   "name": "python3"
  },
  "language_info": {
   "codemirror_mode": {
    "name": "ipython",
    "version": 3
   },
   "file_extension": ".py",
   "mimetype": "text/x-python",
   "name": "python",
   "nbconvert_exporter": "python",
   "pygments_lexer": "ipython3",
   "version": "3.7.2"
  }
 },
 "nbformat": 4,
 "nbformat_minor": 2
}
