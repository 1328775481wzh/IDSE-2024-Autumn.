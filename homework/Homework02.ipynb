{
 "cells": [
  {
   "cell_type": "markdown",
   "metadata": {},
   "source": [
    "1、编写 Python 程序，求两个正整数的最大公约数。\n"
   ]
  },
  {
   "cell_type": "code",
   "execution_count": 10,
   "metadata": {},
   "outputs": [
    {
     "name": "stdout",
     "output_type": "stream",
     "text": [
      "36 和 60 的最大公约数是: 12\n"
     ]
    }
   ],
   "source": [
    "# 欧几里得算法计算最大公约数\n",
    "def gcd(a, b):\n",
    "    while b != 0:\n",
    "        a, b = b, a % b\n",
    "    return a\n",
    "\n",
    "# 测试代码\n",
    "if __name__ == \"__main__\":\n",
    "    # 输入两个正整数\n",
    "    num1 = int(input(\"请输入第一个正整数：\"))\n",
    "    num2 = int(input(\"请输入第二个正整数：\"))\n",
    "    \n",
    "    # 计算最大公约数\n",
    "    result = gcd(num1, num2)\n",
    "    \n",
    "    # 输出结果\n",
    "    print(f\"{num1} 和 {num2} 的最大公约数是: {result}\")\n"
   ]
  },
  {
   "cell_type": "markdown",
   "metadata": {},
   "source": [
    "2、 用if语句实现百分制转等级制（考试成绩，60分以下不合格，60—74分合格，75—89分为良好，90分以上为优秀）。\n"
   ]
  },
  {
   "cell_type": "code",
   "execution_count": 6,
   "metadata": {},
   "outputs": [
    {
     "name": "stdout",
     "output_type": "stream",
     "text": [
      "成绩 78.0 对应的等级是：良好\n"
     ]
    }
   ],
   "source": [
    "# 获取考试成绩\n",
    "score = float(input(\"请输入考试成绩（0-100）：\"))\n",
    "\n",
    "# 判断成绩所属等级\n",
    "if score < 60:\n",
    "    grade = \"不合格\"\n",
    "elif 60 <= score <= 74:\n",
    "    grade = \"合格\"\n",
    "elif 75 <= score <= 89:\n",
    "    grade = \"良好\"\n",
    "else:\n",
    "    grade = \"优秀\"\n",
    "\n",
    "# 输出成绩对应的等级\n",
    "print(f\"成绩 {score} 对应的等级是：{grade}\")\n"
   ]
  },
  {
   "cell_type": "markdown",
   "metadata": {},
   "source": [
    "3、编写Python程序，完成十进制小数到二进制小数的转换\n"
   ]
  },
  {
   "cell_type": "code",
   "execution_count": 7,
   "metadata": {},
   "outputs": [
    {
     "name": "stdout",
     "output_type": "stream",
     "text": [
      "3.14 的二进制表示是：11.0010001111\n"
     ]
    }
   ],
   "source": [
    "def decimal_to_binary(decimal_number, precision=10):\n",
    "    # 获取整数部分\n",
    "    integer_part = int(decimal_number)\n",
    "    # 获取小数部分\n",
    "    fractional_part = decimal_number - integer_part\n",
    "    \n",
    "    # 转换整数部分\n",
    "    integer_binary = bin(integer_part).replace(\"0b\", \"\")\n",
    "    \n",
    "    # 转换小数部分\n",
    "    fractional_binary = []\n",
    "    while fractional_part and len(fractional_binary) < precision:\n",
    "        fractional_part *= 2\n",
    "        bit = int(fractional_part)\n",
    "        fractional_binary.append(str(bit))\n",
    "        fractional_part -= bit\n",
    "    \n",
    "    # 合并整数部分和小数部分\n",
    "    binary_representation = integer_binary + \".\" + \"\".join(fractional_binary) if fractional_binary else integer_binary\n",
    "    return binary_representation\n",
    "\n",
    "# 输入十进制小数\n",
    "decimal_number = float(input(\"请输入十进制小数：\"))\n",
    "\n",
    "# 调用函数进行转换，精度设为10位\n",
    "binary_result = decimal_to_binary(decimal_number, precision=10)\n",
    "\n",
    "# 输出结果\n",
    "print(f\"{decimal_number} 的二进制表示是：{binary_result}\")\n"
   ]
  },
  {
   "cell_type": "markdown",
   "metadata": {},
   "source": [
    "4、编写Python程序，产生10-20的随机浮点数\n"
   ]
  },
  {
   "cell_type": "code",
   "execution_count": 8,
   "metadata": {},
   "outputs": [
    {
     "name": "stdout",
     "output_type": "stream",
     "text": [
      "生成的随机浮点数是：13.255054782392147\n"
     ]
    }
   ],
   "source": [
    "import random\n",
    "\n",
    "# 生成一个10到20之间的随机浮点数\n",
    "random_float = random.uniform(10, 20)\n",
    "\n",
    "# 输出结果\n",
    "print(f\"生成的随机浮点数是：{random_float}\")\n"
   ]
  },
  {
   "cell_type": "markdown",
   "metadata": {},
   "source": [
    "5、编写一个Python函数，判断一个整数是否是回文数。回文数是指正序（从左向右）和倒序（从右向左）读都是一样的数。\n"
   ]
  },
  {
   "cell_type": "code",
   "execution_count": 9,
   "metadata": {},
   "outputs": [
    {
     "name": "stdout",
     "output_type": "stream",
     "text": [
      "123454321 是回文数\n"
     ]
    }
   ],
   "source": [
    "def is_palindrome(number):\n",
    "    # 将整数转换为字符串，以便进行倒序比较\n",
    "    num_str = str(number)\n",
    "    \n",
    "    # 如果正序和倒序字符串相等，则是回文数\n",
    "    return num_str == num_str[::-1]\n",
    "\n",
    "# 测试\n",
    "number = int(input(\"请输入一个整数：\"))\n",
    "if is_palindrome(number):\n",
    "    print(f\"{number} 是回文数\")\n",
    "else:\n",
    "    print(f\"{number} 不是回文数\")\n"
   ]
  },
  {
   "cell_type": "markdown",
   "metadata": {},
   "source": [
    "6、编写一个Python函数，返回一个包含斐波那契数列的前N个数的列表。斐波那契数列是一个数列，其中每个数是前两个数的和，数列以0和1开始。\n"
   ]
  },
  {
   "cell_type": "code",
   "execution_count": 11,
   "metadata": {},
   "outputs": [
    {
     "name": "stdout",
     "output_type": "stream",
     "text": [
      "斐波那契数列的前 10 项是：[0, 1, 1, 2, 3, 5, 8, 13, 21, 34]\n"
     ]
    }
   ],
   "source": [
    "def fibonacci(n):\n",
    "    # 创建一个包含前 N 个斐波那契数的列表\n",
    "    fib_sequence = []\n",
    "    \n",
    "    # 第一个和第二个数是固定的 0 和 1\n",
    "    a, b = 0, 1\n",
    "    \n",
    "    for _ in range(n):\n",
    "        fib_sequence.append(a)\n",
    "        # 更新 a 和 b，使它们向前推进\n",
    "        a, b = b, a + b\n",
    "    \n",
    "    return fib_sequence\n",
    "\n",
    "# 测试\n",
    "n = int(input(\"请输入要返回的斐波那契数列的项数：\"))\n",
    "fib_list = fibonacci(n)\n",
    "print(f\"斐波那契数列的前 {n} 项是：{fib_list}\")\n"
   ]
  },
  {
   "cell_type": "markdown",
   "metadata": {},
   "source": [
    "7、编写一个Python函数，接受一个整数数组作为输入，返回数组中第二大的数。如果数组中只有一个元素或数组为空，则返回-1。\n"
   ]
  },
  {
   "cell_type": "code",
   "execution_count": 13,
   "metadata": {},
   "outputs": [
    {
     "name": "stdout",
     "output_type": "stream",
     "text": [
      "[1, 3, 5, 7, 9, 7] 数组中的第二大元素是：7\n"
     ]
    }
   ],
   "source": [
    "def second_largest(nums):\n",
    "    # 检查数组长度是否小于 2\n",
    "    if len(nums) < 2:\n",
    "        return -1\n",
    "    \n",
    "    # 去除重复元素\n",
    "    unique_nums = list(set(nums))\n",
    "    \n",
    "    # 如果去重后数组仍然少于2个元素，说明没有第二大元素\n",
    "    if len(unique_nums) < 2:\n",
    "        return -1\n",
    "    \n",
    "    # 对去重后的数组进行排序\n",
    "    unique_nums.sort()\n",
    "    \n",
    "    # 返回第二大的元素\n",
    "    return unique_nums[-2]\n",
    "\n",
    "# 测试\n",
    "nums = [int(x) for x in input(\"请输入整数数组，用空格隔开：\").split()]\n",
    "result = second_largest(nums)\n",
    "print(nums,f\"数组中的第二大元素是：{result}\")\n"
   ]
  },
  {
   "cell_type": "markdown",
   "metadata": {},
   "source": [
    "8、编写一个函数，使其能够用正则表达式的方式简单验证身份证号是否合法。"
   ]
  },
  {
   "cell_type": "markdown",
   "metadata": {},
   "source": [
    "validate_id_card函数使用正则表达式模式来匹配身份证号。模式通过以下方式验证身份证号的格式：\n",
    "\n",
    "·第一位必须是1-9的数字，不以0开头。\n",
    "\n",
    "·接下来5位是地区码。（开头6位都是地区码）\n",
    "\n",
    "·紧接着6位是出生年份和月份。\n",
    "\n",
    "·接下来2位是出生日。\n",
    "\n",
    "·然后是3位顺序码（通常是随机数字）。\n",
    "\n",
    "·最后一位可以是数字或大写字母X。\n",
    "\n",
    "1）^：表示匹配字符串的开头，确保正则表达式从字符串的开头开始匹配。\n",
    "\n",
    "2）[1-9]：表示第一位是数字，但不包括0。这是因为身份证号的第一位通常不是0。\n",
    "\n",
    "3）\\d{5}：表示接下来的5位是数字（0-9），共计6位，这部分用来表示地区编码。\n",
    "\n",
    "4）(19|20)：这是一个分组，用于匹配年份的前两位。身份证号通常使用19或20作为年份的前两位。\n",
    "\n",
    "5）\\d{2}：表示匹配年份的后两位，共计2位。\n",
    "\n",
    "6）(0[1-9]|1[0-2])：这是一个分组，用于匹配月份。月份的范围是01到12。这一部分可以匹配01到09月以及10到12月。\n",
    "\n",
    "7）(0[1-9]|[1-2]\\d|3[0-1])：这是一个分组，用于匹配日期。它可以匹配01到09日，10到29日，以及30到31日。\n",
    "\n",
    "8）\\d{3}：表示匹配身份证号中的顺序码，通常是3位数字。\n",
    "\n",
    "9）(\\d|X|x)：这是最后一部分，用于匹配身份证号的校验码。它可以是数字（0-9）或字母X（可以是大写或小写）。\n",
    "\n",
    "10）$：表示匹配字符串的结尾，确保正则表达式匹配到字符串的末尾。\n",
    "\n",
    "以下是一些常见的正则表达式模式：\n",
    "\n",
    "1.普通字符： 普通字符（例如字母、数字、标点符号等）表示它们自身。在示例中，\"apple\" 就是一个普通字符。\n",
    "\n",
    "2.特殊字符： 正则表达式中有一些特殊字符，如 .、*、+、? 等，它们具有特殊的含义。例如，\".\" 表示匹配任何字符，\"*\" 表示匹配前一个字符的零个或多个重复，\"+\" 表示匹配前一个字符的一个或多个重复，\"?\" 表示匹配前一个字符的零个或一个重复。这些特殊字符需要进行转义，如 \\.、\\*、\\+、\\? 来匹配它们自身。\n",
    "\n",
    "3.字符类： 使用 [...] 表示一个字符类，可以匹配括号内的任何一个字符。例如，[abc] 匹配字符 'a'、'b' 或 'c' 中的任何一个。\n",
    "\n",
    "4.范围字符类： 使用 [a-z] 表示匹配小写字母 'a' 到 'z' 中的任何一个字符。类似地，[0-9] 表示匹配数字 0 到 9 中的任何一个字符。\n",
    "\n",
    "5.反向字符类： 使用 [^...] 表示一个反向字符类，可以匹配不在括号内的任何字符。例如，[^0-9] 匹配任何非数字字符。\n",
    "\n",
    "6.预定义字符类： 正则表达式还提供了一些预定义的字符类，如 \\d 表示任何数字字符，\\w 表示任何字母、数字或下划线字符，\\s 表示任何空白字符。相应的大写形式 \\D、\\W、\\S 表示它们的补集。\n",
    "\n",
    "7.边界匹配： ^ 表示匹配字符串的开头，$ 表示匹配字符串的结尾。例如，\"^apple\" 匹配以 \"apple\" 开头的字符串。\n",
    "\n",
    "8.重复： 使用 {m} 表示前一个模式必须重复 m 次，使用 {m, n} 表示前一个模式必须重复至少 m 次，至多 n 次。例如，\"a{2,4}\" 匹配 \"aa\"、\"aaa\" 或 \"aaaa\"。\n",
    "\n",
    "9.逻辑操作： 正则表达式支持逻辑操作，如 | 表示或操作。例如，\"apple|banana\" 匹配 \"apple\" 或 \"banana\"。\n",
    "\n",
    "10.分组： 使用 () 创建分组，可以对模式进行分组和捕获。例如，\"(apple|banana)\" 匹配 \"apple\" 或 \"banana\"，并且可以通过捕获组来访问匹配的内容。\n",
    "\n",
    "在示例中，pattern 的形式是一个普通字符串 \"apple\"，它将匹配目标字符串的开头，只有当目标字符串以 \"apple\" 开头时才会找到匹配。"
   ]
  },
  {
   "cell_type": "code",
   "execution_count": 2,
   "metadata": {},
   "outputs": [
    {
     "name": "stdout",
     "output_type": "stream",
     "text": [
      "11010519491231002X 身份证号合法\n"
     ]
    }
   ],
   "source": [
    "import re\n",
    "\n",
    "def validate_id_card(id_card):\n",
    "    # 定义身份证号的正则表达式\n",
    "    pattern = r\"^[1-9]\\d{5}(19|20)\\d{2}(0[1-9]|1[0-2])(0[1-9]|[12]\\d|3[01])\\d{3}(\\d|X|x)$\"\n",
    "    \n",
    "    # 使用正则表达式匹配身份证号\n",
    "    if re.match(pattern, id_card):\n",
    "        return True  # 身份证号合法\n",
    "    else:\n",
    "        return False  # 身份证号不合法\n",
    "\n",
    "# 测试\n",
    "id_card = input(\"请输入身份证号：\")\n",
    "if validate_id_card(id_card):\n",
    "    print(id_card,\"身份证号合法\")\n",
    "else:\n",
    "    print(id_card,\"身份证号不合法\")\n"
   ]
  }
 ],
 "metadata": {
  "kernelspec": {
   "display_name": "Python 3",
   "language": "python",
   "name": "python3"
  },
  "language_info": {
   "codemirror_mode": {
    "name": "ipython",
    "version": 3
   },
   "file_extension": ".py",
   "mimetype": "text/x-python",
   "name": "python",
   "nbconvert_exporter": "python",
   "pygments_lexer": "ipython3",
   "version": "3.7.2"
  }
 },
 "nbformat": 4,
 "nbformat_minor": 2
}
