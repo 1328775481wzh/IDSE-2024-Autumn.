{
 "cells": [
  {
   "cell_type": "markdown",
   "metadata": {},
   "source": [
    "在实验练习08中我们使用的数据为两个城市在不同因素影响下某小时共享单车租用的数量。现在我们利用该数据集构建一个回归预测模型，根据数据中的某些属性预测该时段内的单车租用数量，该表所有值均为整型数据，表结构为：\n",
    "\n",
    "id 记录编号，无其他意义\n",
    "\n",
    "city 城市代号，0为北京，1为上海\n",
    "\n",
    "hour 小时，代表时间\n",
    "\n",
    "is_workday 是否为工作日，0为否，1为是\n",
    "\n",
    "temp_air 大气温度，单位为摄氏度\n",
    "\n",
    "temp_body 体感温度，单位为摄氏度\n",
    "\n",
    "weather 天气代号，1为晴天，2为多云或阴天，3为雨天或雪天\n",
    "\n",
    "wind 风级，数值越大代表风速越大\n",
    "\n",
    "y 该小时内共享单车被租用的数量\n",
    "\n",
    "请完成以下任务"
   ]
  },
  {
   "cell_type": "markdown",
   "metadata": {},
   "source": [
    "1. 数据集已上传至data文件夹中，具体文件为bike.csv。请使用pandas库读取该文件。\n",
    "\n",
    "2. id属性对构建回归预测模型没有帮助，请剔除掉该列。\n",
    "\n",
    "3. 我们暂不考虑不同城市对单车租用的影响，请筛选出上海市的所有数据，然后剔除city列。\n",
    "\n",
    "4. 为简化数据，请将hour列中原来6点-18点统一为1；19点-次日5点统一为0。\n",
    "\n",
    "5. y列为单车租用数量，是我们的预测目标（标签），请将该列提取出来，并转换为一个numpy列向量，将原先的y列剔除。\n",
    "\n",
    "6. 请将DataFrame对象转换为Numpy数组，方便后续操作。\n",
    "\n",
    "7. 请按照训练集与测试集8:2的比例将原始数据集划分。\n",
    "\n",
    "8. 请分别对训练集数据、训练集标签、测试集数据和测试集标签进行归一化。\n",
    "\n",
    "9. 请先构建一个线性回归模型（多元一次函数），然后利用训练集训练模型。\n",
    "\n",
    "10. 利用测试集对训练好的模型进行评估。提示：使用predict(data_array)方法输入测试集，该函数返回值为模型预测值。\n",
    "\n",
    "11. 模型评估：请使用均方根误差（RMSE）作为评估指标，并输出RMSE值。"
   ]
  },
  {
   "cell_type": "code",
   "execution_count": 1,
   "metadata": {},
   "outputs": [
    {
     "name": "stdout",
     "output_type": "stream",
     "text": [
      "RMSE: 0.7868598401729346\n"
     ]
    }
   ],
   "source": [
    "import pandas as pd\n",
    "import numpy as np\n",
    "from sklearn.model_selection import train_test_split\n",
    "from sklearn.preprocessing import StandardScaler\n",
    "from sklearn.linear_model import LinearRegression\n",
    "from sklearn.metrics import mean_squared_error\n",
    "\n",
    "# 1. 读取文件（确保路径正确）\n",
    "file_path = r'C:\\Users\\王志鸿\\Desktop\\导论\\bike.csv'\n",
    "df = pd.read_csv(file_path)\n",
    "\n",
    "# 2. 删除'id'列\n",
    "df = df.drop(columns=['id'])\n",
    "\n",
    "# 3. 筛选上海市的数据，并删除'city'列\n",
    "df_shanghai = df[df['city'] == 1].drop(columns=['city'])\n",
    "\n",
    "# 4. 将hour列中原来6点-18点统一为1；19点-次日5点统一为0\n",
    "df_shanghai['hour'] = df_shanghai['hour'].apply(lambda x: 1 if 6 <= x <= 18 else 0)\n",
    "\n",
    "# 5. 提取y列并转换为numpy列向量，然后剔除原先的y列\n",
    "y = df_shanghai['y'].values\n",
    "df_shanghai = df_shanghai.drop(columns=['y'])\n",
    "\n",
    "# 6. 将DataFrame转换为Numpy数组\n",
    "X = df_shanghai.values\n",
    "\n",
    "# 7. 划分训练集和测试集，比例为8:2\n",
    "X_train, X_test, y_train, y_test = train_test_split(X, y, test_size=0.2, random_state=42)\n",
    "\n",
    "# 8. 对训练集和测试集数据、标签进行归一化\n",
    "scaler_X = StandardScaler()\n",
    "X_train_scaled = scaler_X.fit_transform(X_train)\n",
    "X_test_scaled = scaler_X.transform(X_test)\n",
    "\n",
    "scaler_y = StandardScaler()\n",
    "y_train_scaled = scaler_y.fit_transform(y_train.reshape(-1, 1)).flatten()\n",
    "y_test_scaled = scaler_y.transform(y_test.reshape(-1, 1)).flatten()\n",
    "\n",
    "# 9. 构建线性回归模型并训练\n",
    "model = LinearRegression()\n",
    "model.fit(X_train_scaled, y_train_scaled)\n",
    "\n",
    "# 10. 利用测试集进行预测\n",
    "y_pred_scaled = model.predict(X_test_scaled)\n",
    "\n",
    "# 11. 评估模型：计算均方根误差（RMSE）\n",
    "rmse = np.sqrt(mean_squared_error(y_test_scaled, y_pred_scaled))\n",
    "print(f'RMSE: {rmse}')\n"
   ]
  }
 ],
 "metadata": {
  "kernelspec": {
   "display_name": "Python 3",
   "language": "python",
   "name": "python3"
  },
  "language_info": {
   "codemirror_mode": {
    "name": "ipython",
    "version": 3
   },
   "file_extension": ".py",
   "mimetype": "text/x-python",
   "name": "python",
   "nbconvert_exporter": "python",
   "pygments_lexer": "ipython3",
   "version": "3.7.2"
  }
 },
 "nbformat": 4,
 "nbformat_minor": 2
}
